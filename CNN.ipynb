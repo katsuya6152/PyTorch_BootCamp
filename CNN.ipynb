{
 "cells": [
  {
   "cell_type": "code",
   "execution_count": 2,
   "metadata": {},
   "outputs": [],
   "source": [
    "import torch\n",
    "import torch.nn as nn\n",
    "import torch.nn.functional as F\n",
    "from torch.utils.data import DataLoader\n",
    "from torchvision import datasets, transforms\n",
    "import math\n",
    "import numpy as np\n",
    "import pandas as pd\n",
    "import matplotlib.pyplot as plt\n",
    "%matplotlib inline"
   ]
  },
  {
   "cell_type": "code",
   "execution_count": 7,
   "metadata": {},
   "outputs": [
    {
     "name": "stdout",
     "output_type": "stream",
     "text": [
      "Downloading http://yann.lecun.com/exdb/mnist/train-images-idx3-ubyte.gz to ./data\\MNIST\\raw\\train-images-idx3-ubyte.gz\n"
     ]
    },
    {
     "data": {
      "application/vnd.jupyter.widget-view+json": {
       "model_id": "d2097488be0a475a8adb1689414ab9a0",
       "version_major": 2,
       "version_minor": 0
      },
      "text/plain": [
       "HBox(children=(FloatProgress(value=1.0, bar_style='info', max=1.0), HTML(value='')))"
      ]
     },
     "metadata": {},
     "output_type": "display_data"
    },
    {
     "name": "stdout",
     "output_type": "stream",
     "text": [
      "Extracting ./data\\MNIST\\raw\\train-images-idx3-ubyte.gz to ./data\\MNIST\\raw\n",
      "Downloading http://yann.lecun.com/exdb/mnist/train-labels-idx1-ubyte.gz to ./data\\MNIST\\raw\\train-labels-idx1-ubyte.gz\n"
     ]
    },
    {
     "data": {
      "application/vnd.jupyter.widget-view+json": {
       "model_id": "e7fef82534a04bd08cc3a3df0d17f34d",
       "version_major": 2,
       "version_minor": 0
      },
      "text/plain": [
       "HBox(children=(FloatProgress(value=1.0, bar_style='info', max=1.0), HTML(value='')))"
      ]
     },
     "metadata": {},
     "output_type": "display_data"
    },
    {
     "name": "stdout",
     "output_type": "stream",
     "text": [
      "Extracting ./data\\MNIST\\raw\\train-labels-idx1-ubyte.gz to ./data\\MNIST\\raw\n",
      "Downloading http://yann.lecun.com/exdb/mnist/t10k-images-idx3-ubyte.gz to ./data\\MNIST\\raw\\t10k-images-idx3-ubyte.gz\n"
     ]
    },
    {
     "data": {
      "application/vnd.jupyter.widget-view+json": {
       "model_id": "aa2f3805753642f98e91cc00d7792bb7",
       "version_major": 2,
       "version_minor": 0
      },
      "text/plain": [
       "HBox(children=(FloatProgress(value=1.0, bar_style='info', max=1.0), HTML(value='')))"
      ]
     },
     "metadata": {},
     "output_type": "display_data"
    },
    {
     "name": "stdout",
     "output_type": "stream",
     "text": [
      "Extracting ./data\\MNIST\\raw\\t10k-images-idx3-ubyte.gz to ./data\\MNIST\\raw\n",
      "Downloading http://yann.lecun.com/exdb/mnist/t10k-labels-idx1-ubyte.gz to ./data\\MNIST\\raw\\t10k-labels-idx1-ubyte.gz\n"
     ]
    },
    {
     "data": {
      "application/vnd.jupyter.widget-view+json": {
       "model_id": "18ecc81cdeba4f99a4f486ff0af39048",
       "version_major": 2,
       "version_minor": 0
      },
      "text/plain": [
       "HBox(children=(FloatProgress(value=1.0, bar_style='info', max=1.0), HTML(value='')))"
      ]
     },
     "metadata": {},
     "output_type": "display_data"
    },
    {
     "name": "stdout",
     "output_type": "stream",
     "text": [
      "Extracting ./data\\MNIST\\raw\\t10k-labels-idx1-ubyte.gz to ./data\\MNIST\\raw\n",
      "Processing...\n",
      "Done!\n"
     ]
    },
    {
     "name": "stderr",
     "output_type": "stream",
     "text": [
      "..\\torch\\csrc\\utils\\tensor_numpy.cpp:141: UserWarning: The given NumPy array is not writeable, and PyTorch does not support non-writeable tensors. This means you can write to the underlying (supposedly non-writeable) NumPy array using the tensor. You may want to copy the array to protect its data or make it writeable before converting it to a tensor. This type of warning will be suppressed for the rest of this program.\n"
     ]
    }
   ],
   "source": [
    "transform = transforms.ToTensor()\n",
    "\n",
    "train_data = datasets.MNIST(root='./data',train=True,download=False,transform=transform)\n",
    "test_data = datasets.MNIST(root='./data',train=False,download=False,transform=transform)"
   ]
  },
  {
   "cell_type": "code",
   "execution_count": 8,
   "metadata": {},
   "outputs": [
    {
     "data": {
      "text/plain": [
       "Dataset MNIST\n",
       "    Number of datapoints: 60000\n",
       "    Root location: ./data\n",
       "    Split: Train\n",
       "    StandardTransform\n",
       "Transform: ToTensor()"
      ]
     },
     "execution_count": 8,
     "metadata": {},
     "output_type": "execute_result"
    }
   ],
   "source": [
    "train_data"
   ]
  },
  {
   "cell_type": "code",
   "execution_count": 9,
   "metadata": {},
   "outputs": [
    {
     "data": {
      "text/plain": [
       "Dataset MNIST\n",
       "    Number of datapoints: 10000\n",
       "    Root location: ./data\n",
       "    Split: Test\n",
       "    StandardTransform\n",
       "Transform: ToTensor()"
      ]
     },
     "execution_count": 9,
     "metadata": {},
     "output_type": "execute_result"
    }
   ],
   "source": [
    "test_data"
   ]
  },
  {
   "cell_type": "code",
   "execution_count": 28,
   "metadata": {},
   "outputs": [],
   "source": [
    "#CNN構造理解\n",
    "class CNNModel(nn.Module):\n",
    "    def __init__(self):\n",
    "        super().__init__()\n",
    "        self.convl = nn.Conv2d(1,6,3,1)\n",
    "        self.conv2 = nn.Conv2d(6,16,3,1)\n",
    "        self.fc1 = nn.Linear(5*5*16,120)\n",
    "        self.fc2 = nn.Linear(120,84)\n",
    "        self.fc3 = nn.Linear(84,10)\n",
    "        \n",
    "    def forward(self,x):\n",
    "        #print(x.shape)\n",
    "        x = F.relu(self.convl(x))\n",
    "        #print(x.shape)\n",
    "        x = F.max_pool2d(x,2,2)\n",
    "        #print(x.shape)\n",
    "        x = F.relu(self.conv2(x))\n",
    "        #print(x.shape)\n",
    "        x = F.max_pool2d(x,2,2)\n",
    "        #print(x.shape)\n",
    "        x = x.view(-1,5*5*16)\n",
    "        #print(x.shape)\n",
    "        x = F.relu(self.fc1(x))\n",
    "        #print(x.shape)\n",
    "        x = F.relu(self.fc2(x))\n",
    "        #print(x.shape)\n",
    "        x = self.fc3(x)\n",
    "        #print(x.shape)\n",
    "        return x"
   ]
  },
  {
   "cell_type": "code",
   "execution_count": 29,
   "metadata": {},
   "outputs": [],
   "source": [
    "torch.manual_seed(3)\n",
    "model = CNNModel()\n",
    "batchsize = 5\n",
    "\n",
    "train_loader = DataLoader(train_data, batch_size = batchsize, shuffle=True)\n",
    "test_loader = DataLoader(test_data, batch_size = 10000, shuffle=False)"
   ]
  },
  {
   "cell_type": "code",
   "execution_count": 30,
   "metadata": {},
   "outputs": [],
   "source": [
    "for i, (X_train, y_train) in enumerate(train_loader):\n",
    "    y_pred = model(X_train)\n",
    "    break"
   ]
  },
  {
   "cell_type": "code",
   "execution_count": 31,
   "metadata": {},
   "outputs": [],
   "source": [
    "criterion = nn.CrossEntropyLoss()\n",
    "optimizer = torch.optim.Adam(model.parameters(),lr =0.001)"
   ]
  },
  {
   "cell_type": "code",
   "execution_count": 32,
   "metadata": {},
   "outputs": [
    {
     "name": "stdout",
     "output_type": "stream",
     "text": [
      "Epoch: 1 6000/60000 loss: 0.565 accuracy: 81.100%\n",
      "Epoch: 1 12000/60000 loss: 0.198 accuracy: 93.983%\n",
      "Epoch: 1 18000/60000 loss: 0.136 accuracy: 95.867%\n",
      "Epoch: 1 24000/60000 loss: 0.119 accuracy: 96.500%\n",
      "Epoch: 1 30000/60000 loss: 0.105 accuracy: 96.833%\n",
      "Epoch: 1 36000/60000 loss: 0.100 accuracy: 96.883%\n",
      "Epoch: 1 42000/60000 loss: 0.095 accuracy: 96.983%\n",
      "Epoch: 1 48000/60000 loss: 0.088 accuracy: 97.383%\n",
      "Epoch: 1 54000/60000 loss: 0.076 accuracy: 97.333%\n",
      "Epoch: 1 60000/60000 loss: 0.079 accuracy: 97.650%\n",
      "Epoch: 2 6000/60000 loss: 0.068 accuracy: 98.083%\n",
      "Epoch: 2 12000/60000 loss: 0.061 accuracy: 97.883%\n",
      "Epoch: 2 18000/60000 loss: 0.060 accuracy: 98.167%\n",
      "Epoch: 2 24000/60000 loss: 0.057 accuracy: 98.350%\n",
      "Epoch: 2 30000/60000 loss: 0.071 accuracy: 97.983%\n",
      "Epoch: 2 36000/60000 loss: 0.062 accuracy: 97.900%\n",
      "Epoch: 2 42000/60000 loss: 0.056 accuracy: 98.250%\n",
      "Epoch: 2 48000/60000 loss: 0.060 accuracy: 98.083%\n",
      "Epoch: 2 54000/60000 loss: 0.056 accuracy: 98.300%\n",
      "Epoch: 2 60000/60000 loss: 0.057 accuracy: 98.183%\n",
      "Epoch: 3 6000/60000 loss: 0.046 accuracy: 98.567%\n",
      "Epoch: 3 12000/60000 loss: 0.050 accuracy: 98.483%\n",
      "Epoch: 3 18000/60000 loss: 0.052 accuracy: 98.367%\n",
      "Epoch: 3 24000/60000 loss: 0.041 accuracy: 98.817%\n",
      "Epoch: 3 30000/60000 loss: 0.056 accuracy: 98.150%\n",
      "Epoch: 3 36000/60000 loss: 0.036 accuracy: 98.817%\n",
      "Epoch: 3 42000/60000 loss: 0.047 accuracy: 98.617%\n",
      "Epoch: 3 48000/60000 loss: 0.043 accuracy: 98.767%\n",
      "Epoch: 3 54000/60000 loss: 0.046 accuracy: 98.483%\n",
      "Epoch: 3 60000/60000 loss: 0.046 accuracy: 98.567%\n"
     ]
    }
   ],
   "source": [
    "epochs = 3\n",
    "loss_list = []\n",
    "accuracy_list = []\n",
    "\n",
    "loss_temp = 0\n",
    "\n",
    "for epoch in range(epochs):\n",
    "    correct_counter = 0\n",
    "    \n",
    "    for i, (X_train,y_train) in enumerate(train_loader):\n",
    "        i+=1\n",
    "        y_pred = model(X_train)\n",
    "        loss = criterion(y_pred, y_train)\n",
    "        \n",
    "        predicted_y = torch.max(y_pred.data, 1)[1]\n",
    "        correct_temp = (predicted_y == y_train).sum()\n",
    "        correct_counter+=correct_temp\n",
    "        loss_temp += loss.item()\n",
    "        \n",
    "        optimizer.zero_grad()\n",
    "        loss.backward()\n",
    "        optimizer.step()\n",
    "        \n",
    "        if i%1200 ==0:\n",
    "            lossval = loss_temp/1200\n",
    "            print(f'Epoch: {epoch+1} {5*i}/60000 loss: {lossval:.3f} accuracy: {correct_counter.item()*100/(6000):.3f}%')\n",
    "            \n",
    "            loss_list.append(lossval)\n",
    "            accuracy_list.append(correct_counter.item()*100/6000)\n",
    "            loss_temp = 0\n",
    "            correct_counter = 0"
   ]
  },
  {
   "cell_type": "code",
   "execution_count": 33,
   "metadata": {},
   "outputs": [
    {
     "data": {
      "text/plain": [
       "[<matplotlib.lines.Line2D at 0x1a08c4963c8>]"
      ]
     },
     "execution_count": 33,
     "metadata": {},
     "output_type": "execute_result"
    },
    {
     "data": {
      "image/png": "[encoded data removed]",
      "text/plain": [
       "<Figure size 432x288 with 1 Axes>"
      ]
     },
     "metadata": {
      "needs_background": "light"
     },
     "output_type": "display_data"
    }
   ],
   "source": [
    "plt.plot(loss_list)"
   ]
  },
  {
   "cell_type": "code",
   "execution_count": 34,
   "metadata": {},
   "outputs": [
    {
     "data": {
      "text/plain": [
       "[<matplotlib.lines.Line2D at 0x1a08c334348>]"
      ]
     },
     "execution_count": 34,
     "metadata": {},
     "output_type": "execute_result"
    },
    {
     "data": {
      "image/png": "[encoded data removed]",
      "text/plain": [
       "<Figure size 432x288 with 1 Axes>"
      ]
     },
     "metadata": {
      "needs_background": "light"
     },
     "output_type": "display_data"
    }
   ],
   "source": [
    "plt.plot(accuracy_list)"
   ]
  },
  {
   "cell_type": "code",
   "execution_count": 35,
   "metadata": {},
   "outputs": [
    {
     "name": "stdout",
     "output_type": "stream",
     "text": [
      "98.17%\n"
     ]
    }
   ],
   "source": [
    "test_accuracy = 0\n",
    "\n",
    "with torch.no_grad():\n",
    "    for i, (X_test, y_test) in enumerate(test_loader):\n",
    "        y_val = model(X_test)\n",
    "        \n",
    "        predicted = torch.max(y_val.data,1)[1]\n",
    "        test_accuracy += (predicted == y_test).sum()\n",
    "        print(f'{test_accuracy.item()*100/len(y_test)}%')"
   ]
  },
  {
   "cell_type": "code",
   "execution_count": null,
   "metadata": {},
   "outputs": [],
   "source": []
  }
 ],
 "metadata": {
  "kernelspec": {
   "display_name": "Python 3",
   "language": "python",
   "name": "python3"
  },
  "language_info": {
   "codemirror_mode": {
    "name": "ipython",
    "version": 3
   },
   "file_extension": ".py",
   "mimetype": "text/x-python",
   "name": "python",
   "nbconvert_exporter": "python",
   "pygments_lexer": "ipython3",
   "version": "3.7.7"
  }
 },
 "nbformat": 4,
 "nbformat_minor": 4
}
