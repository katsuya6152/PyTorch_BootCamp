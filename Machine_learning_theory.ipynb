{
 "cells": [
  {
   "cell_type": "code",
   "execution_count": 1,
   "metadata": {},
   "outputs": [
    {
     "name": "stdout",
     "output_type": "stream",
     "text": [
      "w= 0.0\n",
      "\t 1.0 3.0 0.0 9.0\n",
      "\t 2.0 6.0 0.0 36.0\n",
      "\t 3.0 9.0 0.0 81.0\n",
      "\t 4.0 12.0 0.0 144.0\n",
      "\t 5.0 15.0 0.0 225.0\n",
      "MSE= 99.0\n",
      "w= 0.5\n",
      "\t 1.0 3.0 0.5 6.25\n",
      "\t 2.0 6.0 1.0 25.0\n",
      "\t 3.0 9.0 1.5 56.25\n",
      "\t 4.0 12.0 2.0 100.0\n",
      "\t 5.0 15.0 2.5 156.25\n",
      "MSE= 68.75\n",
      "w= 1.0\n",
      "\t 1.0 3.0 1.0 4.0\n",
      "\t 2.0 6.0 2.0 16.0\n",
      "\t 3.0 9.0 3.0 36.0\n",
      "\t 4.0 12.0 4.0 64.0\n",
      "\t 5.0 15.0 5.0 100.0\n",
      "MSE= 44.0\n",
      "w= 1.5\n",
      "\t 1.0 3.0 1.5 2.25\n",
      "\t 2.0 6.0 3.0 9.0\n",
      "\t 3.0 9.0 4.5 20.25\n",
      "\t 4.0 12.0 6.0 36.0\n",
      "\t 5.0 15.0 7.5 56.25\n",
      "MSE= 24.75\n",
      "w= 2.0\n",
      "\t 1.0 3.0 2.0 1.0\n",
      "\t 2.0 6.0 4.0 4.0\n",
      "\t 3.0 9.0 6.0 9.0\n",
      "\t 4.0 12.0 8.0 16.0\n",
      "\t 5.0 15.0 10.0 25.0\n",
      "MSE= 11.0\n",
      "w= 2.5\n",
      "\t 1.0 3.0 2.5 0.25\n",
      "\t 2.0 6.0 5.0 1.0\n",
      "\t 3.0 9.0 7.5 2.25\n",
      "\t 4.0 12.0 10.0 4.0\n",
      "\t 5.0 15.0 12.5 6.25\n",
      "MSE= 2.75\n",
      "w= 3.0\n",
      "\t 1.0 3.0 3.0 0.0\n",
      "\t 2.0 6.0 6.0 0.0\n",
      "\t 3.0 9.0 9.0 0.0\n",
      "\t 4.0 12.0 12.0 0.0\n",
      "\t 5.0 15.0 15.0 0.0\n",
      "MSE= 0.0\n",
      "w= 3.5\n",
      "\t 1.0 3.0 3.5 0.25\n",
      "\t 2.0 6.0 7.0 1.0\n",
      "\t 3.0 9.0 10.5 2.25\n",
      "\t 4.0 12.0 14.0 4.0\n",
      "\t 5.0 15.0 17.5 6.25\n",
      "MSE= 2.75\n",
      "w= 4.0\n",
      "\t 1.0 3.0 4.0 1.0\n",
      "\t 2.0 6.0 8.0 4.0\n",
      "\t 3.0 9.0 12.0 9.0\n",
      "\t 4.0 12.0 16.0 16.0\n",
      "\t 5.0 15.0 20.0 25.0\n",
      "MSE= 11.0\n",
      "w= 4.5\n",
      "\t 1.0 3.0 4.5 2.25\n",
      "\t 2.0 6.0 9.0 9.0\n",
      "\t 3.0 9.0 13.5 20.25\n",
      "\t 4.0 12.0 18.0 36.0\n",
      "\t 5.0 15.0 22.5 56.25\n",
      "MSE= 24.75\n",
      "w= 5.0\n",
      "\t 1.0 3.0 5.0 4.0\n",
      "\t 2.0 6.0 10.0 16.0\n",
      "\t 3.0 9.0 15.0 36.0\n",
      "\t 4.0 12.0 20.0 64.0\n",
      "\t 5.0 15.0 25.0 100.0\n",
      "MSE= 44.0\n",
      "w= 5.5\n",
      "\t 1.0 3.0 5.5 6.25\n",
      "\t 2.0 6.0 11.0 25.0\n",
      "\t 3.0 9.0 16.5 56.25\n",
      "\t 4.0 12.0 22.0 100.0\n",
      "\t 5.0 15.0 27.5 156.25\n",
      "MSE= 68.75\n",
      "w= 6.0\n",
      "\t 1.0 3.0 6.0 9.0\n",
      "\t 2.0 6.0 12.0 36.0\n",
      "\t 3.0 9.0 18.0 81.0\n",
      "\t 4.0 12.0 24.0 144.0\n",
      "\t 5.0 15.0 30.0 225.0\n",
      "MSE= 99.0\n"
     ]
    },
    {
     "data": {
      "image/png": "[encoded data removed]",
      "text/plain": [
       "<Figure size 432x288 with 1 Axes>"
      ]
     },
     "metadata": {
      "needs_background": "light"
     },
     "output_type": "display_data"
    }
   ],
   "source": [
    "import numpy as np\n",
    "import matplotlib.pyplot as plt\n",
    "\n",
    "x_data = [1.0,2.0,3.0,4.0,5.0]\n",
    "y_data = [3.0,6.0,9.0,12.0,15.0]\n",
    "\n",
    "def forward(x):\n",
    "    return x*w\n",
    "\n",
    "def loss(x,y):\n",
    "    y_pred = forward(x)\n",
    "    return (y_pred - y)**2\n",
    "\n",
    "w_list = []\n",
    "MSE_list = []\n",
    "\n",
    "for w in np.arange(0.0,6.5,0.5):\n",
    "    print(\"w=\", w)\n",
    "    loss_sum=0\n",
    "    \n",
    "    for x,y in zip(x_data,y_data):\n",
    "        \n",
    "        y_pred = forward(x)\n",
    "        loss_val = loss(x,y)\n",
    "        loss_sum += loss_val\n",
    "        print(\"\\t\",x,y,y_pred,loss_val)\n",
    "        \n",
    "    print(\"MSE=\", loss_sum/len(x_data))\n",
    "    w_list.append(w)\n",
    "    MSE_list.append(loss_sum/len(x_data))\n",
    "    \n",
    "plt.plot(w_list, MSE_list)\n",
    "plt.ylabel('MSE')\n",
    "plt.xlabel('w')\n",
    "plt.show()"
   ]
  },
  {
   "cell_type": "code",
   "execution_count": 2,
   "metadata": {},
   "outputs": [],
   "source": [
    "#勾配計算\n",
    "x_data = np.array([1.0,2.0,3.0,4.0,5.0],dtype=np.float32)\n",
    "y_data = np.array([3.0,6.0,9.0,12.0,15.0],dtype=np.float32)"
   ]
  },
  {
   "cell_type": "code",
   "execution_count": 3,
   "metadata": {},
   "outputs": [],
   "source": [
    "w = 1.0\n",
    "w_list = [w]\n",
    "loss_list = []\n",
    "\n",
    "def forward(x):\n",
    "    return x*w\n",
    "\n",
    "def loss(y,y_pred):\n",
    "    return ((y_pred - y)**2).mean()\n",
    "\n",
    "def gradient(x,y,y_pred):\n",
    "    return np.dot(2*x, y_pred-y).mean()"
   ]
  },
  {
   "cell_type": "code",
   "execution_count": 4,
   "metadata": {},
   "outputs": [
    {
     "name": "stdout",
     "output_type": "stream",
     "text": [
      "epoch 0: w = 3.200: loss44.000\n",
      "epoch 1: w = 2.980: loss0.440\n",
      "epoch 2: w = 3.002: loss0.004\n",
      "epoch 3: w = 3.000: loss0.000\n",
      "epoch 4: w = 3.000: loss0.000\n",
      "epoch 5: w = 3.000: loss0.000\n",
      "epoch 6: w = 3.000: loss0.000\n",
      "epoch 7: w = 3.000: loss0.000\n",
      "epoch 8: w = 3.000: loss0.000\n",
      "epoch 9: w = 3.000: loss0.000\n"
     ]
    }
   ],
   "source": [
    "epochs = 10\n",
    "\n",
    "for epoch in range(epochs):\n",
    "    y_pred = forward(x_data)\n",
    "    loss_val = loss(y_data,y_pred)\n",
    "    \n",
    "    grad_val = gradient(x_data,y_data,y_pred)\n",
    "    \n",
    "    w = w - 0.01*grad_val\n",
    "    \n",
    "    w_list.append(w)\n",
    "    loss_list.append(loss_val)\n",
    "    \n",
    "    print(f'epoch {epoch}: w = {w:.3f}: loss{loss_val:.3f}')\n",
    "    "
   ]
  },
  {
   "cell_type": "code",
   "execution_count": 5,
   "metadata": {},
   "outputs": [
    {
     "data": {
      "text/plain": [
       "[<matplotlib.lines.Line2D at 0x2697f008348>]"
      ]
     },
     "execution_count": 5,
     "metadata": {},
     "output_type": "execute_result"
    },
    {
     "data": {
      "image/png": "[encoded data removed]",
      "text/plain": [
       "<Figure size 432x288 with 1 Axes>"
      ]
     },
     "metadata": {
      "needs_background": "light"
     },
     "output_type": "display_data"
    }
   ],
   "source": [
    "plt.plot(loss_list)"
   ]
  },
  {
   "cell_type": "code",
   "execution_count": 6,
   "metadata": {},
   "outputs": [
    {
     "data": {
      "text/plain": [
       "[<matplotlib.lines.Line2D at 0x2697f073448>]"
      ]
     },
     "execution_count": 6,
     "metadata": {},
     "output_type": "execute_result"
    },
    {
     "data": {
      "image/png": "[encoded data removed]",
      "text/plain": [
       "<Figure size 432x288 with 1 Axes>"
      ]
     },
     "metadata": {
      "needs_background": "light"
     },
     "output_type": "display_data"
    }
   ],
   "source": [
    "plt.plot(w_list)"
   ]
  },
  {
   "cell_type": "code",
   "execution_count": 7,
   "metadata": {},
   "outputs": [],
   "source": [
    "import torch\n",
    "import torch.nn as nn\n",
    "import matplotlib.pyplot as plt"
   ]
  },
  {
   "cell_type": "code",
   "execution_count": 8,
   "metadata": {},
   "outputs": [],
   "source": [
    "class Model(nn.Module):\n",
    "    def __init__(self,in_features,out_features):\n",
    "        super().__init__()\n",
    "        self.linear = nn.Linear(in_features, out_features)\n",
    "    \n",
    "    def forward(self,x):\n",
    "        y_pred = self.linear(x)\n",
    "        return y_pred"
   ]
  },
  {
   "cell_type": "code",
   "execution_count": 9,
   "metadata": {},
   "outputs": [],
   "source": [
    "torch.manual_seed(3)\n",
    "\n",
    "model = Model(1,1)\n",
    "\n",
    "criterion = nn.MSELoss()\n",
    "optimizer = torch.optim.SGD(model.parameters(),lr=0.01)"
   ]
  },
  {
   "cell_type": "code",
   "execution_count": 10,
   "metadata": {},
   "outputs": [],
   "source": [
    "x = torch.tensor([1,2,3,4,5],dtype=torch.float).view(-1,1)\n",
    "y = torch.tensor([3,6,9,12,15],dtype=torch.float).view(-1,1)"
   ]
  },
  {
   "cell_type": "code",
   "execution_count": 13,
   "metadata": {},
   "outputs": [],
   "source": [
    "epochs = 100\n",
    "loss_list = []\n",
    "w_list = []\n",
    "\n",
    "for epoch in range(epochs):\n",
    "    \n",
    "    y_pred = model.forward(x)\n",
    "    loss_val = criterion(y_pred,y)\n",
    "    \n",
    "    optimizer.zero_grad()\n",
    "    loss_val.backward()\n",
    "    optimizer.step()\n",
    "    \n",
    "    loss_list.append(loss_val)\n",
    "    w_list.append(model.linear.weight.item())"
   ]
  },
  {
   "cell_type": "code",
   "execution_count": 14,
   "metadata": {},
   "outputs": [
    {
     "data": {
      "text/plain": [
       "[<matplotlib.lines.Line2D at 0x2690ab33c08>]"
      ]
     },
     "execution_count": 14,
     "metadata": {},
     "output_type": "execute_result"
    },
    {
     "data": {
      "image/png": "[encoded data removed]",
      "text/plain": [
       "<Figure size 432x288 with 1 Axes>"
      ]
     },
     "metadata": {
      "needs_background": "light"
     },
     "output_type": "display_data"
    }
   ],
   "source": [
    "plt.plot(loss_list)"
   ]
  },
  {
   "cell_type": "code",
   "execution_count": 15,
   "metadata": {},
   "outputs": [
    {
     "data": {
      "text/plain": [
       "[<matplotlib.lines.Line2D at 0x2696dd0e708>]"
      ]
     },
     "execution_count": 15,
     "metadata": {},
     "output_type": "execute_result"
    },
    {
     "data": {
      "image/png": "[encoded data removed]",
      "text/plain": [
       "<Figure size 432x288 with 1 Axes>"
      ]
     },
     "metadata": {
      "needs_background": "light"
     },
     "output_type": "display_data"
    }
   ],
   "source": [
    "plt.plot(w_list)"
   ]
  },
  {
   "cell_type": "code",
   "execution_count": null,
   "metadata": {},
   "outputs": [],
   "source": []
  }
 ],
 "metadata": {
  "kernelspec": {
   "display_name": "Python 3",
   "language": "python",
   "name": "python3"
  },
  "language_info": {
   "codemirror_mode": {
    "name": "ipython",
    "version": 3
   },
   "file_extension": ".py",
   "mimetype": "text/x-python",
   "name": "python",
   "nbconvert_exporter": "python",
   "pygments_lexer": "ipython3",
   "version": "3.7.7"
  }
 },
 "nbformat": 4,
 "nbformat_minor": 4
}
